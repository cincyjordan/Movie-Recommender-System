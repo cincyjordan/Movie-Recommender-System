{
 "cells": [
  {
   "cell_type": "markdown",
   "id": "fb1db41d-631b-44e3-85d4-ea38a027c648",
   "metadata": {},
   "source": [
    "## Matrix Factorization: Movie Recommender System"
   ]
  },
  {
   "cell_type": "markdown",
   "id": "55f76b1e-8dff-4f3b-a4d2-e67f65061ad6",
   "metadata": {},
   "source": [
    "### About:\n",
    "##### In this project, I will be using Matrix Factorization technique partnered with layer embedment to train movie recommendation system on an movie review dataset. Particularly with this model, stakeholders will be able to employ this recommender system on any movie or television streaming service such as Netflix to precisely recommend a movie based off of an end users watch history and the respected review they gave."
   ]
  },
  {
   "cell_type": "markdown",
   "id": "8ff3bd2b-89a9-4cf6-b9b8-cb27da394440",
   "metadata": {},
   "source": [
    "##### This repository includes a Jupyter Notebook that incorporates a matrix factorization technique for recommender systems, best described in the academic paper \"Matrix Factorization Techniques for Recommender Systems\" by Koren, Yehuda, et al. “Matrix Factorization Techniques for Recommender Systems.” Datajobs, IEEE Computer Society, 7 Aug. 2009, https://datajobs.com/data-science-repo/Recommender-Systems-%5BNetflix%5D.pdf. Accessed 7 July 2024. \n",
    "\n",
    "<img src='https://csdl-images.ieeecomputer.org/mags/co/2009/08/figures/mco20090800301.gif' width='800'>"
   ]
  },
  {
   "cell_type": "markdown",
   "id": "a63d09e1-125a-46d6-84aa-01bdf7b13f03",
   "metadata": {},
   "source": [
    "##### In addition, this project utilizes embedding layers to represent users and movies as dense vectors. These embeddings capture latent factors from the user and item ID indices, best described in the academic paper \"Neural Collaborative Filtering\" by He, Xiangnan, et al. “Neural Collaborative Filtering.” arXiv, 16 Aug. 2017, https://arxiv.org/abs/1708.05031. Accessed 7 July 2024. \n",
    "\n",
    "<img src='https://miro.medium.com/v2/resize:fit:1400/1*aP-Mx266ExwoWZPSdHtYpA.png' width='800'>"
   ]
  },
  {
   "cell_type": "code",
   "execution_count": 10,
   "id": "7df9cbbf-1eef-4ca7-8f37-9c8951818501",
   "metadata": {},
   "outputs": [],
   "source": [
    "import pandas as pd\n",
    "import torch\n",
    "from sklearn.model_selection import train_test_split\n",
    "import torch.nn as nn\n",
    "from torch.optim import Adam\n",
    "from torch.utils.data import DataLoader, Dataset\n",
    "import opendatasets as od"
   ]
  },
  {
   "cell_type": "code",
   "execution_count": 14,
   "id": "a3628d9d-57da-4b4e-b773-e9c8124546f5",
   "metadata": {},
   "outputs": [
    {
     "name": "stdout",
     "output_type": "stream",
     "text": [
      "Dataset URL: https://www.kaggle.com/datasets/vinothkumarj280204/movie-recommendation-system-dataset\n",
      "Downloading movie-recommendation-system-dataset.zip to .\\movie-recommendation-system-dataset\n"
     ]
    },
    {
     "name": "stderr",
     "output_type": "stream",
     "text": [
      "100%|██████████| 165M/165M [00:04<00:00, 41.4MB/s] \n"
     ]
    },
    {
     "name": "stdout",
     "output_type": "stream",
     "text": [
      "\n"
     ]
    }
   ],
   "source": [
    "od.download(\"https://www.kaggle.com/datasets/vinothkumarj280204/movie-recommendation-system-dataset\")"
   ]
  },
  {
   "cell_type": "code",
   "execution_count": 2,
   "id": "0b681150-879f-471b-a818-d9adb2efa9b3",
   "metadata": {},
   "outputs": [
    {
     "name": "stdout",
     "output_type": "stream",
     "text": [
      "   movieId                               title  \\\n",
      "0        1                    Toy Story (1995)   \n",
      "1        2                      Jumanji (1995)   \n",
      "2        3             Grumpier Old Men (1995)   \n",
      "3        4            Waiting to Exhale (1995)   \n",
      "4        5  Father of the Bride Part II (1995)   \n",
      "\n",
      "                                        genres  \n",
      "0  Adventure|Animation|Children|Comedy|Fantasy  \n",
      "1                   Adventure|Children|Fantasy  \n",
      "2                               Comedy|Romance  \n",
      "3                         Comedy|Drama|Romance  \n",
      "4                                       Comedy  \n",
      "   userId  movieId  rating   timestamp\n",
      "0       1      296     5.0  1147880044\n",
      "1       1      306     3.5  1147868817\n",
      "2       1      307     5.0  1147868828\n",
      "3       1      665     5.0  1147878820\n",
      "4       1      899     3.5  1147868510\n"
     ]
    }
   ],
   "source": [
    "# Load data\n",
    "movies = pd.read_csv('movie-recommendation-system-dataset/movies.csv') \n",
    "ratings = pd.read_csv('movie-recommendation-system-dataset/ratings.csv')\n",
    "\n",
    "# Display the first few rows of each dataframe\n",
    "print(movies.head())\n",
    "print(ratings.head())"
   ]
  },
  {
   "cell_type": "code",
   "execution_count": 3,
   "id": "9d80ac0a-c60c-4291-91ce-647bb0957283",
   "metadata": {},
   "outputs": [],
   "source": [
    "# Encode userID and movieID as categorical data\n",
    "ratings['userId'] = ratings['userId'].astype('category').cat.codes.values\n",
    "ratings['movieId'] = ratings['movieId'].astype('category').cat.codes.values"
   ]
  },
  {
   "cell_type": "code",
   "execution_count": 5,
   "id": "3be6bbea-b800-4412-9c68-1555db633fa7",
   "metadata": {},
   "outputs": [],
   "source": [
    "# Split data into training and test sets\n",
    "train_data, test_data = train_test_split(ratings, test_size=0.2, random_state=42)"
   ]
  },
  {
   "cell_type": "code",
   "execution_count": 6,
   "id": "a7aeb522-b31a-4e42-a01e-c644a8b76165",
   "metadata": {},
   "outputs": [],
   "source": [
    "# Convert data to tensors\n",
    "train_users = torch.tensor(train_data['userId'].values, dtype=torch.long)\n",
    "train_movies = torch.tensor(train_data['movieId'].values, dtype=torch.long)\n",
    "train_ratings = torch.tensor(train_data['rating'].values, dtype=torch.float32)\n",
    "\n",
    "test_users = torch.tensor(test_data['userId'].values, dtype=torch.long)\n",
    "test_movies = torch.tensor(test_data['movieId'].values, dtype=torch.long)\n",
    "test_ratings = torch.tensor(test_data['rating'].values, dtype=torch.float32)"
   ]
  },
  {
   "cell_type": "code",
   "execution_count": 7,
   "id": "9d80b913-6ef4-4c1e-8800-4dc810dbc07f",
   "metadata": {},
   "outputs": [
    {
     "name": "stdout",
     "output_type": "stream",
     "text": [
      "cuda\n"
     ]
    }
   ],
   "source": [
    "# Check if CUDA is available and move model to GPU\n",
    "device = torch.device('cuda' if torch.cuda.is_available() else 'cpu')\n",
    "print(device)"
   ]
  },
  {
   "cell_type": "code",
   "execution_count": 8,
   "id": "9f424fb6-f46e-4a2a-b221-2bdf81830c08",
   "metadata": {},
   "outputs": [],
   "source": [
    "# Move tensors to GPU\n",
    "train_users = train_users.to(device)\n",
    "train_movies = train_movies.to(device)\n",
    "train_ratings = train_ratings.to(device)\n",
    "\n",
    "test_users = test_users.to(device)\n",
    "test_movies = test_movies.to(device)\n",
    "test_ratings = test_ratings.to(device)"
   ]
  },
  {
   "cell_type": "code",
   "execution_count": 9,
   "id": "34804951-1522-4f79-81ca-a338266e88e0",
   "metadata": {},
   "outputs": [],
   "source": [
    "# Dataset class\n",
    "class RatingsDataset(Dataset):\n",
    "    def __init__(self, users, movies, ratings):\n",
    "        self.users = users\n",
    "        self.movies = movies\n",
    "        self.ratings = ratings\n",
    "    \n",
    "    def __len__(self):\n",
    "        return len(self.ratings)\n",
    "    \n",
    "    def __getitem__(self, idx):\n",
    "        try:\n",
    "            return self.users[idx], self.movies[idx], self.ratings[idx]\n",
    "        except Exception as e:\n",
    "            print(f\"Error at index {idx}: {e}\")\n",
    "            raise e"
   ]
  },
  {
   "cell_type": "code",
   "execution_count": 10,
   "id": "e3d429e8-700a-4e22-978b-8a5cf54d43f3",
   "metadata": {},
   "outputs": [],
   "source": [
    "# Dataset class\n",
    "class RatingsDataset(Dataset):\n",
    "    def __init__(self, users, movies, ratings):\n",
    "        self.users = users\n",
    "        self.movies = movies\n",
    "        self.ratings = ratings\n",
    "    \n",
    "    def __len__(self):\n",
    "        return len(self.ratings)\n",
    "    \n",
    "    def __getitem__(self, idx):\n",
    "        return self.users[idx], self.movies[idx], self.ratings[idx]"
   ]
  },
  {
   "cell_type": "code",
   "execution_count": 11,
   "id": "608bbbf4-8133-431f-9904-9a4ec85d80fb",
   "metadata": {},
   "outputs": [],
   "source": [
    "# DataLoader\n",
    "train_dataset = RatingsDataset(train_users, train_movies, train_ratings)\n",
    "test_dataset = RatingsDataset(test_users, test_movies, test_ratings)"
   ]
  },
  {
   "cell_type": "code",
   "execution_count": 12,
   "id": "7cf6bd4e-6a2b-4af5-b3a9-cdc57075e04c",
   "metadata": {},
   "outputs": [],
   "source": [
    "train_loader = DataLoader(train_dataset, batch_size=4096, shuffle=True, num_workers=0)\n",
    "test_loader = DataLoader(test_dataset, batch_size=4096, shuffle=False, num_workers=0)"
   ]
  },
  {
   "cell_type": "code",
   "execution_count": 13,
   "id": "e9f45390-3e0a-44ff-a5a7-60f0019b3e8d",
   "metadata": {},
   "outputs": [],
   "source": [
    "class MatrixFactorization(nn.Module):\n",
    "    def __init__(self, num_users, num_movies, embedding_dim):\n",
    "        super(MatrixFactorization, self).__init__()\n",
    "        self.user_embedding = nn.Embedding(num_users, embedding_dim)\n",
    "        self.movie_embedding = nn.Embedding(num_movies, embedding_dim)\n",
    "    \n",
    "    def forward(self, user, movie):\n",
    "        user_emb = self.user_embedding(user)\n",
    "        movie_emb = self.movie_embedding(movie)\n",
    "        return (user_emb * movie_emb).sum(1)\n",
    "\n",
    "# Get number of users and movies\n",
    "num_users = ratings['userId'].nunique()\n",
    "num_movies = ratings['movieId'].nunique()\n",
    "embedding_dim = 50  # This can be adjusted"
   ]
  },
  {
   "cell_type": "code",
   "execution_count": 14,
   "id": "38d3adac-bb97-48ef-a4a3-101ed7c39217",
   "metadata": {},
   "outputs": [],
   "source": [
    "# Instantiate the model\n",
    "model = MatrixFactorization(ratings['userId'].nunique(), ratings['movieId'].nunique(), 50).to(device)"
   ]
  },
  {
   "cell_type": "code",
   "execution_count": 15,
   "id": "2896184c-37a7-4bd6-af3a-50ccad5d9810",
   "metadata": {},
   "outputs": [],
   "source": [
    "# Define loss function and optimizer\n",
    "criterion = nn.MSELoss()\n",
    "optimizer = Adam(model.parameters(), lr=0.005)"
   ]
  },
  {
   "cell_type": "code",
   "execution_count": 16,
   "id": "43502f53-2661-4866-9a1c-de1d1d1b870d",
   "metadata": {},
   "outputs": [],
   "source": [
    "# Training with mixed precision\n",
    "scaler = torch.cuda.amp.GradScaler()"
   ]
  },
  {
   "cell_type": "code",
   "execution_count": 17,
   "id": "459f9f7d-2c43-4416-a22d-ce1af9e69b1b",
   "metadata": {},
   "outputs": [
    {
     "name": "stdout",
     "output_type": "stream",
     "text": [
      "Epoch 1/5, Train Loss: 14.7898, Test Loss: 1.8375\n",
      "Epoch 2/5, Train Loss: 1.1504, Test Loss: 1.2399\n",
      "Epoch 3/5, Train Loss: 0.9439, Test Loss: 1.0735\n",
      "Epoch 4/5, Train Loss: 0.8794, Test Loss: 0.9794\n",
      "Epoch 5/5, Train Loss: 0.8086, Test Loss: 0.9215\n"
     ]
    }
   ],
   "source": [
    "# Training loop\n",
    "num_epochs = 5  # Adjust as necessary\n",
    "\n",
    "for epoch in range(num_epochs):\n",
    "    model.train()\n",
    "    epoch_loss = 0\n",
    "    for batch_users, batch_movies, batch_ratings in train_loader:\n",
    "        batch_users, batch_movies, batch_ratings = batch_users.to(device), batch_movies.to(device), batch_ratings.to(device)\n",
    "        \n",
    "        optimizer.zero_grad()\n",
    "        \n",
    "        # Mixed precision\n",
    "        with torch.cuda.amp.autocast():\n",
    "            predictions = model(batch_users, batch_movies)\n",
    "            loss = criterion(predictions, batch_ratings)\n",
    "        \n",
    "        scaler.scale(loss).backward()\n",
    "        scaler.step(optimizer)\n",
    "        scaler.update()\n",
    "        \n",
    "        epoch_loss += loss.item()\n",
    "    \n",
    "    avg_train_loss = epoch_loss / len(train_loader)\n",
    "    \n",
    "    # Evaluate on test set\n",
    "    model.eval()\n",
    "    test_loss = 0\n",
    "    with torch.no_grad():\n",
    "        for batch_users, batch_movies, batch_ratings in test_loader:\n",
    "            batch_users, batch_movies, batch_ratings = batch_users.to(device), batch_movies.to(device), batch_ratings.to(device)\n",
    "            \n",
    "            with torch.cuda.amp.autocast():\n",
    "                predictions = model(batch_users, batch_movies)\n",
    "                loss = criterion(predictions, batch_ratings)\n",
    "                test_loss += loss.item()\n",
    "    \n",
    "    avg_test_loss = test_loss / len(test_loader)\n",
    "    print(f'Epoch {epoch+1}/{num_epochs}, Train Loss: {avg_train_loss:.4f}, Test Loss: {avg_test_loss:.4f}')\n",
    "    \n",
    "# Save the model\n",
    "torch.save(model.state_dict(), 'matrix_factorization.pth')"
   ]
  },
  {
   "cell_type": "code",
   "execution_count": 21,
   "id": "1ed3d7bd-abb4-45d5-aadd-dbe88dacbf8a",
   "metadata": {},
   "outputs": [],
   "source": [
    "# Function to compute RMSE\n",
    "def rmse(predictions, targets):\n",
    "    return torch.sqrt(((predictions - targets) ** 2).mean())\n",
    "\n",
    "# Function to compute MAE\n",
    "def mae(predictions, targets):\n",
    "    return torch.abs(predictions - targets).mean()"
   ]
  },
  {
   "cell_type": "code",
   "execution_count": 22,
   "id": "fdd1128b-3deb-4949-b8bf-f9abcc4f0a02",
   "metadata": {},
   "outputs": [
    {
     "name": "stdout",
     "output_type": "stream",
     "text": [
      "Test RMSE: 0.9599725604057312\n",
      "Test MAE: 0.7120007872581482\n"
     ]
    }
   ],
   "source": [
    "# Evaluate the model\n",
    "model.eval()\n",
    "with torch.no_grad():\n",
    "    # Move test data to device\n",
    "    test_users = test_users.to(device)\n",
    "    test_movies = test_movies.to(device)\n",
    "    test_ratings = test_ratings.to(device)\n",
    "    \n",
    "    # Get predictions\n",
    "    test_predictions = model(test_users, test_movies)\n",
    "    \n",
    "    # Compute RMSE and MAE\n",
    "    test_rmse = rmse(test_predictions, test_ratings)\n",
    "    test_mae = mae(test_predictions, test_ratings)\n",
    "\n",
    "    print(f'Test RMSE: {test_rmse.item()}')\n",
    "    print(f'Test MAE: {test_mae.item()}')"
   ]
  },
  {
   "cell_type": "code",
   "execution_count": 23,
   "id": "61635ec2-97fb-4de7-832a-24d577be08f2",
   "metadata": {},
   "outputs": [],
   "source": [
    "def recommend_movies(user_id, num_recommendations=5):\n",
    "    user_id_tensor = torch.tensor([user_id]).to(device)\n",
    "    movie_ids = torch.arange(num_movies).to(device)\n",
    "    \n",
    "    model.eval()\n",
    "    with torch.no_grad():\n",
    "        predictions = model(user_id_tensor.repeat(num_movies), movie_ids)\n",
    "    \n",
    "    top_movies = predictions.argsort(descending=True)[:num_recommendations]\n",
    "    recommended_movie_ids = movie_ids[top_movies].cpu().numpy()\n",
    "    recommended_movies = movies.loc[movies['movieId'].isin(recommended_movie_ids)]\n",
    "    \n",
    "    return recommended_movies"
   ]
  },
  {
   "cell_type": "code",
   "execution_count": 24,
   "id": "8a752b6c-993f-413c-8448-7411e79219fa",
   "metadata": {},
   "outputs": [
    {
     "name": "stdout",
     "output_type": "stream",
     "text": [
      "       movieId              title         genres\n",
      "9725     32316  River, The (1951)  Drama|Romance\n",
      "11217    49312   Snow Cake (2006)          Drama\n"
     ]
    }
   ],
   "source": [
    "# Recommend movies for a given user\n",
    "user_id = 1  # Example user ID\n",
    "recommended_movies = recommend_movies(user_id)\n",
    "print(recommended_movies)"
   ]
  }
 ],
 "metadata": {
  "kernelspec": {
   "display_name": "Python 3 (ipykernel)",
   "language": "python",
   "name": "python3"
  },
  "language_info": {
   "codemirror_mode": {
    "name": "ipython",
    "version": 3
   },
   "file_extension": ".py",
   "mimetype": "text/x-python",
   "name": "python",
   "nbconvert_exporter": "python",
   "pygments_lexer": "ipython3",
   "version": "3.12.4"
  }
 },
 "nbformat": 4,
 "nbformat_minor": 5
}
